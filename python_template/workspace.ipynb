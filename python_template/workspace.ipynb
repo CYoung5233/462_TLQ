{
 "cells": [
  {
   "cell_type": "code",
   "execution_count": 1,
   "metadata": {},
   "outputs": [
    {
     "name": "stdout",
     "output_type": "stream",
     "text": [
      "------------------------------------------------------\n",
      "             Welcome to FaaSET v3.0!\n",
      "------------------------------------------------------\n",
      "Available platforms:  demo. ibm_code_engine. aws_docker_arm. aws_docker_debian. azure. aws_function_url. aws_docker. google. oracle. google_gen2. openfaas_eks. digital_ocean. ibm. local. aws_api_gateway. aws_boto3. ibm_docker. aws. openfaas. \n",
      "------------------------------------------------------\n",
      "Loaded functions:  \n"
     ]
    }
   ],
   "source": [
    "import SAAF\n",
    "import FaaSET\n",
    "import FaaSETUI"
   ]
  },
  {
   "cell_type": "code",
   "execution_count": 2,
   "metadata": {},
   "outputs": [],
   "source": [
    "function_config = {\n",
    "    \"role\": \"arn:aws:iam::616835888336:role/service-role/simple_microservice_role\",\n",
    "    \"memory\": 256,\n",
    "    \"profile\": \"personal\"\n",
    "}"
   ]
  },
  {
   "cell_type": "code",
   "execution_count": null,
   "metadata": {},
   "outputs": [],
   "source": [
    "@FaaSET.cloud_function(platform=\"aws\", config=function_config)\n",
    "def hello_world(request, context): \n",
    "    from SAAF import Inspector\n",
    "    inspector = Inspector() \n",
    "    inspector.inspectAll()\n",
    "    inspector.addAttribute(\"message\", \"Hello from the cloud \" + str(request[\"name\"]) + \"!\")\n",
    "    inspector.inspectAllDeltas() \n",
    "    return inspector.finish()\n",
    "\n",
    "hello_world({\"name\": \"Bob\"})"
   ]
  }
 ],
 "metadata": {
  "kernelspec": {
   "display_name": "Python 3",
   "language": "python",
   "name": "python3"
  },
  "language_info": {
   "codemirror_mode": {
    "name": "ipython",
    "version": 3
   },
   "file_extension": ".py",
   "mimetype": "text/x-python",
   "name": "python",
   "nbconvert_exporter": "python",
   "pygments_lexer": "ipython3",
   "version": "3.8.10"
  }
 },
 "nbformat": 4,
 "nbformat_minor": 2
}
