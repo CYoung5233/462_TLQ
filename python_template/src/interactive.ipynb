{
 "metadata": {
  "language_info": {
   "codemirror_mode": {
    "name": "ipython",
    "version": 3
   },
   "file_extension": ".py",
   "mimetype": "text/x-python",
   "name": "python",
   "nbconvert_exporter": "python",
   "pygments_lexer": "ipython3",
   "version": "3.8.5-final"
  },
  "orig_nbformat": 2,
  "kernelspec": {
   "name": "python385jvsc74a57bd0916dbcbb3f70747c44a77c7bcd40155683ae19c65e1c03b4aa3499c5328201f1",
   "display_name": "Python 3.8.5 64-bit"
  },
  "metadata": {
   "interpreter": {
    "hash": "916dbcbb3f70747c44a77c7bcd40155683ae19c65e1c03b4aa3499c5328201f1"
   }
  }
 },
 "nbformat": 4,
 "nbformat_minor": 2,
 "cells": [
  {
   "source": [
    "# SAAF Notebook\n",
    "\n",
    "This Jupyeter Notebook provides an interactive platform for FaaS development. "
   ],
   "cell_type": "markdown",
   "metadata": {}
  },
  {
   "cell_type": "code",
   "execution_count": 1,
   "metadata": {},
   "outputs": [],
   "source": [
    "# Imports and setup for the notebook.\n",
    "import os\n",
    "import sys\n",
    "sys.path.append(os.path.realpath('..'))\n",
    "from platforms.jupyter.interactive_helpers import *"
   ]
  },
  {
   "source": [
    "# Your Function\n",
    "\n",
    "Write your function below and run the cell to automatically deploy the function to AWS Lambda."
   ],
   "cell_type": "markdown",
   "metadata": {}
  },
  {
   "cell_type": "code",
   "execution_count": 2,
   "metadata": {},
   "outputs": [
    {
     "output_type": "stream",
     "name": "stdout",
     "text": [
      "Deploying function...\n",
      "Function deployed!\n"
     ]
    }
   ],
   "source": [
    "interactive_preprocess() # Handles deployment, do not remove.\n",
    "\n",
    "import json\n",
    "import logging\n",
    "from Inspector import *\n",
    "import time\n",
    "\n",
    "#\n",
    "# Define your FaaS Function here. \n",
    "# Each platform handler will call and pass parameters to this function.\n",
    "# \n",
    "# @param request A JSON object provided by the platform handler.\n",
    "# @param context A platform specific object used to communicate with the cloud platform.\n",
    "# @returns A JSON object to use as a response.\n",
    "#\n",
    "def yourFunction(request, context):\n",
    "    # Import the module and collect data\n",
    "    inspector = Inspector()\n",
    "    inspector.inspectAll()\n",
    "\n",
    "    # Add custom message and finish the function\n",
    "    if ('name' in request):\n",
    "        inspector.addAttribute(\"message\", \"Mello \" + str(request['name']) + \"!\")\n",
    "    else:\n",
    "        inspector.addAttribute(\"message\", \"Hello World!\")\n",
    "    \n",
    "    inspector.inspectAllDeltas()\n",
    "    return inspector.finish()\n",
    "    "
   ]
  },
  {
   "source": [
    "# Test Locally\n",
    "\n",
    "Customize the payload object and test your function locally.\n",
    "SAAF only works on Linux so test on the cloud if using macOS or Windows."
   ],
   "cell_type": "markdown",
   "metadata": {}
  },
  {
   "cell_type": "code",
   "execution_count": 4,
   "metadata": {},
   "outputs": [
    {
     "output_type": "execute_result",
     "data": {
      "text/plain": [
       "{'version': 0.5,\n",
       " 'lang': 'python',\n",
       " 'startTime': 1618641510953,\n",
       " 'uuid': '8bcc79c8-165e-4a33-be86-37b7eb011e7e',\n",
       " 'newcontainer': 0,\n",
       " 'vmuptime': 1618626633,\n",
       " 'platform': 'Unknown Platform',\n",
       " 'linuxVersion': 'Linux ubuntuserver 5.4.0-71-generic #79-Ubuntu SMP Wed Mar 24 10:56:57 UTC 2021 x86_64 x86_64 x86_64 GNU/Linux',\n",
       " 'totalMemory': 32882248,\n",
       " 'freeMemory': 27164328,\n",
       " 'pageFaults': 18885963,\n",
       " 'cpuType': 'Intel(R) Core(TM) i9-9900K CPU @ 3.60GHz',\n",
       " 'cpuModel': '158',\n",
       " 'cpuUsr': 17168,\n",
       " 'cpuNice': 245,\n",
       " 'cpuKrn': 11814,\n",
       " 'cpuIdle': 14843930,\n",
       " 'cpuIowait': 436,\n",
       " 'cpuIrq': 0,\n",
       " 'cpuSoftIrq': 251,\n",
       " 'vmcpusteal': 0,\n",
       " 'contextSwitches': 4991774,\n",
       " 'frameworkRuntime': 21,\n",
       " 'message': 'Mello Steve!',\n",
       " 'userRuntime': 0,\n",
       " 'cpuUsrDelta': 0,\n",
       " 'cpuNiceDelta': 0,\n",
       " 'cpuKrnDelta': 0,\n",
       " 'cpuIdleDelta': 5,\n",
       " 'cpuIowaitDelta': 0,\n",
       " 'cpuIrqDelta': 0,\n",
       " 'cpuSoftIrqDelta': 0,\n",
       " 'vmcpustealDelta': 0,\n",
       " 'contextSwitchesDelta': 41,\n",
       " 'pageFaultsDelta': 3777,\n",
       " 'frameworkRuntimeDeltas': 6,\n",
       " 'runtime': 27,\n",
       " 'endTime': 1618641510980}"
      ]
     },
     "metadata": {},
     "execution_count": 4
    }
   ],
   "source": [
    "# Test your function locally:\n",
    "payload = {\n",
    "    \"name\": \"Steve\"\n",
    "}\n",
    "\n",
    "yourFunction(payload, None)"
   ]
  },
  {
   "source": [
    "# Test on the Cloud\n",
    "\n",
    "Execute your function on AWS Lambda. Output will be formatted into Pandas dataframe."
   ],
   "cell_type": "markdown",
   "metadata": {}
  },
  {
   "cell_type": "code",
   "execution_count": 3,
   "metadata": {},
   "outputs": [
    {
     "output_type": "execute_result",
     "data": {
      "text/plain": [
       "                 Attribute                                              Value\n",
       "0                  version                                                0.5\n",
       "1                     lang                                             python\n",
       "2                startTime                                      1618641502673\n",
       "3                     uuid               5b96b14a-21bc-4e28-8988-7607a5b05cf8\n",
       "4             newcontainer                                                  0\n",
       "5                 vmuptime                                         1618639644\n",
       "6                 platform                                         AWS Lambda\n",
       "7              containerID  2021/04/17/[$LATEST]95da7722dda34143858d735afa...\n",
       "8             functionName                                              hello\n",
       "9           functionMemory                                                512\n",
       "10          functionRegion                                          us-east-1\n",
       "11                    vmID                                                   \n",
       "12            linuxVersion  Linux 169.254.136.181 4.14.225-175.364.amzn2.x...\n",
       "13             totalMemory                                             642644\n",
       "14              freeMemory                                             523564\n",
       "15              pageFaults                                              95184\n",
       "16                 cpuType               Intel(R) Xeon(R) Processor @ 2.50GHz\n",
       "17                cpuModel                                                 63\n",
       "18                  cpuUsr                                                 43\n",
       "19                 cpuNice                                                  0\n",
       "20                  cpuKrn                                                 92\n",
       "21                 cpuIdle                                             371513\n",
       "22               cpuIowait                                                  6\n",
       "23                  cpuIrq                                                  0\n",
       "24              cpuSoftIrq                                                  0\n",
       "25              vmcpusteal                                                 26\n",
       "26         contextSwitches                                              28916\n",
       "27        frameworkRuntime                                                 75\n",
       "28                 message                                       Mello Steve!\n",
       "29             userRuntime                                                  0\n",
       "30             cpuUsrDelta                                                  0\n",
       "31            cpuNiceDelta                                                  0\n",
       "32             cpuKrnDelta                                                  0\n",
       "33            cpuIdleDelta                                                  7\n",
       "34          cpuIowaitDelta                                                  0\n",
       "35             cpuIrqDelta                                                  0\n",
       "36         cpuSoftIrqDelta                                                  0\n",
       "37         vmcpustealDelta                                                  0\n",
       "38    contextSwitchesDelta                                                 43\n",
       "39         pageFaultsDelta                                               3884\n",
       "40  frameworkRuntimeDeltas                                                 38\n",
       "41                 runtime                                                113\n",
       "42                 endTime                                      1618641502786"
      ],
      "text/html": "<div>\n<style scoped>\n    .dataframe tbody tr th:only-of-type {\n        vertical-align: middle;\n    }\n\n    .dataframe tbody tr th {\n        vertical-align: top;\n    }\n\n    .dataframe thead th {\n        text-align: right;\n    }\n</style>\n<table border=\"1\" class=\"dataframe\">\n  <thead>\n    <tr style=\"text-align: right;\">\n      <th></th>\n      <th>Attribute</th>\n      <th>Value</th>\n    </tr>\n  </thead>\n  <tbody>\n    <tr>\n      <th>0</th>\n      <td>version</td>\n      <td>0.5</td>\n    </tr>\n    <tr>\n      <th>1</th>\n      <td>lang</td>\n      <td>python</td>\n    </tr>\n    <tr>\n      <th>2</th>\n      <td>startTime</td>\n      <td>1618641502673</td>\n    </tr>\n    <tr>\n      <th>3</th>\n      <td>uuid</td>\n      <td>5b96b14a-21bc-4e28-8988-7607a5b05cf8</td>\n    </tr>\n    <tr>\n      <th>4</th>\n      <td>newcontainer</td>\n      <td>0</td>\n    </tr>\n    <tr>\n      <th>5</th>\n      <td>vmuptime</td>\n      <td>1618639644</td>\n    </tr>\n    <tr>\n      <th>6</th>\n      <td>platform</td>\n      <td>AWS Lambda</td>\n    </tr>\n    <tr>\n      <th>7</th>\n      <td>containerID</td>\n      <td>2021/04/17/[$LATEST]95da7722dda34143858d735afa...</td>\n    </tr>\n    <tr>\n      <th>8</th>\n      <td>functionName</td>\n      <td>hello</td>\n    </tr>\n    <tr>\n      <th>9</th>\n      <td>functionMemory</td>\n      <td>512</td>\n    </tr>\n    <tr>\n      <th>10</th>\n      <td>functionRegion</td>\n      <td>us-east-1</td>\n    </tr>\n    <tr>\n      <th>11</th>\n      <td>vmID</td>\n      <td></td>\n    </tr>\n    <tr>\n      <th>12</th>\n      <td>linuxVersion</td>\n      <td>Linux 169.254.136.181 4.14.225-175.364.amzn2.x...</td>\n    </tr>\n    <tr>\n      <th>13</th>\n      <td>totalMemory</td>\n      <td>642644</td>\n    </tr>\n    <tr>\n      <th>14</th>\n      <td>freeMemory</td>\n      <td>523564</td>\n    </tr>\n    <tr>\n      <th>15</th>\n      <td>pageFaults</td>\n      <td>95184</td>\n    </tr>\n    <tr>\n      <th>16</th>\n      <td>cpuType</td>\n      <td>Intel(R) Xeon(R) Processor @ 2.50GHz</td>\n    </tr>\n    <tr>\n      <th>17</th>\n      <td>cpuModel</td>\n      <td>63</td>\n    </tr>\n    <tr>\n      <th>18</th>\n      <td>cpuUsr</td>\n      <td>43</td>\n    </tr>\n    <tr>\n      <th>19</th>\n      <td>cpuNice</td>\n      <td>0</td>\n    </tr>\n    <tr>\n      <th>20</th>\n      <td>cpuKrn</td>\n      <td>92</td>\n    </tr>\n    <tr>\n      <th>21</th>\n      <td>cpuIdle</td>\n      <td>371513</td>\n    </tr>\n    <tr>\n      <th>22</th>\n      <td>cpuIowait</td>\n      <td>6</td>\n    </tr>\n    <tr>\n      <th>23</th>\n      <td>cpuIrq</td>\n      <td>0</td>\n    </tr>\n    <tr>\n      <th>24</th>\n      <td>cpuSoftIrq</td>\n      <td>0</td>\n    </tr>\n    <tr>\n      <th>25</th>\n      <td>vmcpusteal</td>\n      <td>26</td>\n    </tr>\n    <tr>\n      <th>26</th>\n      <td>contextSwitches</td>\n      <td>28916</td>\n    </tr>\n    <tr>\n      <th>27</th>\n      <td>frameworkRuntime</td>\n      <td>75</td>\n    </tr>\n    <tr>\n      <th>28</th>\n      <td>message</td>\n      <td>Mello Steve!</td>\n    </tr>\n    <tr>\n      <th>29</th>\n      <td>userRuntime</td>\n      <td>0</td>\n    </tr>\n    <tr>\n      <th>30</th>\n      <td>cpuUsrDelta</td>\n      <td>0</td>\n    </tr>\n    <tr>\n      <th>31</th>\n      <td>cpuNiceDelta</td>\n      <td>0</td>\n    </tr>\n    <tr>\n      <th>32</th>\n      <td>cpuKrnDelta</td>\n      <td>0</td>\n    </tr>\n    <tr>\n      <th>33</th>\n      <td>cpuIdleDelta</td>\n      <td>7</td>\n    </tr>\n    <tr>\n      <th>34</th>\n      <td>cpuIowaitDelta</td>\n      <td>0</td>\n    </tr>\n    <tr>\n      <th>35</th>\n      <td>cpuIrqDelta</td>\n      <td>0</td>\n    </tr>\n    <tr>\n      <th>36</th>\n      <td>cpuSoftIrqDelta</td>\n      <td>0</td>\n    </tr>\n    <tr>\n      <th>37</th>\n      <td>vmcpustealDelta</td>\n      <td>0</td>\n    </tr>\n    <tr>\n      <th>38</th>\n      <td>contextSwitchesDelta</td>\n      <td>43</td>\n    </tr>\n    <tr>\n      <th>39</th>\n      <td>pageFaultsDelta</td>\n      <td>3884</td>\n    </tr>\n    <tr>\n      <th>40</th>\n      <td>frameworkRuntimeDeltas</td>\n      <td>38</td>\n    </tr>\n    <tr>\n      <th>41</th>\n      <td>runtime</td>\n      <td>113</td>\n    </tr>\n    <tr>\n      <th>42</th>\n      <td>endTime</td>\n      <td>1618641502786</td>\n    </tr>\n  </tbody>\n</table>\n</div>"
     },
     "metadata": {},
     "execution_count": 3
    }
   ],
   "source": [
    "# Test your function on the cloud:\n",
    "payload = {\n",
    "    \"name\": \"Steve\"\n",
    "}\n",
    "\n",
    "run_on_cloud(payload)"
   ]
  },
  {
   "cell_type": "code",
   "execution_count": null,
   "metadata": {},
   "outputs": [],
   "source": []
  }
 ]
}