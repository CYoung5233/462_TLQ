{
 "cells": [
  {
   "cell_type": "markdown",
   "metadata": {},
   "source": [
    "# SAAF Notebook\n",
    "\n",
    "This Jupyter Notebook provides an interactive platform for FaaS development. "
   ]
  },
  {
   "cell_type": "code",
   "execution_count": 1,
   "metadata": {},
   "outputs": [],
   "source": [
    "# Imports and setup for the notebook.\n",
    "sys.path.append(os.path.realpath('..'))\n",
    "import os\n",
    "import sys\n",
    "import enum\n",
    "from platforms.jupyter.interactive_helpers import *\n",
    "from enum import Enum\n",
    "class Platform(Enum):\n",
    "    AWS = 1\n",
    "    GCF = 2\n",
    "    IBM = 3\n",
    "    AZURE = 4\n",
    "\n",
    "config = {\n",
    "    \"functionName\": \"SAAFNotebook\",\n",
    "    \"lambdaRoleARN\": \"arn:aws:iam::616835888336:role/service-role/simple_microservice_role\"\n",
    "}"
   ]
  },
  {
   "cell_type": "markdown",
   "metadata": {},
   "source": [
    "# Your Function\n",
    "\n",
    "Write your function below and run the cell to automatically deploy to the specified platforms in the interactive_preprocessor() function."
   ]
  },
  {
   "cell_type": "code",
   "execution_count": null,
   "metadata": {},
   "outputs": [],
   "source": [
    "interactive_preprocess(platforms=[Platform.AWS], memory=512, config=config)\n",
    "\n",
    "# This is just to support Azure.\n",
    "# If you are not deploying there this can be removed.\n",
    "import os\n",
    "import sys\n",
    "sys.path.append(os.path.abspath(os.path.join(os.path.dirname(__file__))))\n",
    "\n",
    "import json\n",
    "import logging\n",
    "from Inspector import *\n",
    "import time\n",
    "\n",
    "#\n",
    "# Define your FaaS Function here. \n",
    "# Each platform handler will call and pass parameters to this function.\n",
    "# \n",
    "# @param request A JSON object provided by the platform handler.\n",
    "# @param context A platform specific object used to communicate with the cloud platform.\n",
    "# @returns A JSON object to use as a response. \n",
    "#\n",
    "def yourFunction(request, context):\n",
    "    # Import the module and collect data\n",
    "    inspector = Inspector()\n",
    "    inspector.inspectAll()\n",
    "\n",
    "    # Add custom message and finish the function\n",
    "    if ('name' in request):\n",
    "        inspector.addAttribute(\"message\", \"Mello \" + str(request['name']) + \"!\")\n",
    "    else:\n",
    "        inspector.addAttribute(\"message\", \"Hello World!\")\n",
    "    \n",
    "    inspector.inspectAllDeltas()\n",
    "    return inspector.finish()\n",
    "    "
   ]
  },
  {
   "cell_type": "markdown",
   "metadata": {},
   "source": [
    "# Test Locally\n",
    "\n",
    "Customize the payload object and test your function locally.\n",
    "SAAF only works on Linux so test on the cloud if using macOS or Windows."
   ]
  },
  {
   "cell_type": "code",
   "execution_count": null,
   "metadata": {},
   "outputs": [],
   "source": [
    "# Test your function locally:\n",
    "payload = {\n",
    "    \"name\": \"Steve\"\n",
    "}\n",
    "\n",
    "yourFunction(payload, None)"
   ]
  },
  {
   "cell_type": "markdown",
   "metadata": {},
   "source": [
    "# Test on the Cloud\n",
    "\n",
    "Execute your function on the cloud!"
   ]
  },
  {
   "cell_type": "code",
   "execution_count": null,
   "metadata": {},
   "outputs": [],
   "source": [
    "# Test your function on the cloud:\n",
    "payload = {\n",
    "    \"name\": \"Bob\"\n",
    "}\n",
    "\n",
    "test_on_cloud(platforms=[Platform.AWS], payload=payload, config=config)"
   ]
  }
 ],
 "metadata": {
  "kernelspec": {
   "display_name": "Python 3.7.3 64-bit",
   "name": "python373jvsc74a57bd0e534e48711db4d1e1c48977d0d14ff85b1f16d41bcc4fdfd88268a329b3c9d66"
  },
  "language_info": {
   "codemirror_mode": {
    "name": "ipython",
    "version": 3
   },
   "file_extension": ".py",
   "mimetype": "text/x-python",
   "name": "python",
   "nbconvert_exporter": "python",
   "pygments_lexer": "ipython3",
   "version": "3.7.3"
  },
  "metadata": {
   "interpreter": {
    "hash": "e534e48711db4d1e1c48977d0d14ff85b1f16d41bcc4fdfd88268a329b3c9d66"
   }
  },
  "orig_nbformat": 2
 },
 "nbformat": 4,
 "nbformat_minor": 2
}