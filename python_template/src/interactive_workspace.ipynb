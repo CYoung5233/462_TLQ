{
 "cells": [
  {
   "cell_type": "markdown",
   "metadata": {},
   "source": [
    "# SAAF Notebook\n",
    "\n",
    "This Jupyter Notebook provides an interactive platform for FaaS development. "
   ]
  },
  {
   "cell_type": "code",
   "execution_count": 1,
   "metadata": {},
   "outputs": [],
   "source": [
    "# Imports and setup for the notebook.\n",
    "import os\n",
    "import sys\n",
    "sys.path.append(os.path.realpath('..'))\n",
    "from platforms.jupyter.interactive_helpers import *\n",
    "\n",
    "# Configure your function here details here.\n",
    "config = {\n",
    "    \"lambdaRoleARN\": \"arn:aws:iam::616835888336:role/service-role/simple_microservice_role\"\n",
    "}"
   ]
  },
  {
   "cell_type": "markdown",
   "metadata": {},
   "source": [
    "# Write Functions\n",
    "\n",
    "Any function with the @cloud_function decorator will be uploaded to the cloud. Define platforms and memory settings in the decorator. Functions are tested locally and must run sucessfully before being deployed."
   ]
  },
  {
   "cell_type": "code",
   "execution_count": 15,
   "metadata": {},
   "outputs": [
    {
     "name": "stdout",
     "output_type": "stream",
     "text": [
      "Testing helloWorld on AWS Lambda...\n",
      "{\"version\": 0.5, \"lang\": \"python\", \"startTime\": 1619848201558, \"uuid\": \"5b71d45c-4666-4659-8b50-cbf6a6d4d89e\", \"newcontainer\": 0, \"vmuptime\": 1619846576, \"platform\": \"AWS Lambda\", \"containerID\": \"2021/05/01/[$LATEST]4307251f3add46cab4c37683912b0036\", \"functionName\": \"helloWorld\", \"functionMemory\": \"512\", \"functionRegion\": \"us-east-1\", \"vmID\": \"\", \"linuxVersion\": \"Linux 169.254.143.133 4.14.225-175.364.amzn2.x86_64 #1 SMP Mon Mar 22 22:06:01 UTC 2021 x86_64 x86_64 x86_64 GNU/Linux\", \"totalMemory\": 642644, \"freeMemory\": 522212, \"pageFaults\": 106815, \"cpuType\": \"Intel(R) Xeon(R) Processor @ 2.50GHz\", \"cpuModel\": \"63\", \"cpuUsr\": 55, \"cpuNice\": 0, \"cpuKrn\": 113, \"cpuIdle\": 324874, \"cpuIowait\": 6, \"cpuIrq\": 0, \"cpuSoftIrq\": 2, \"vmcpusteal\": 21, \"contextSwitches\": 26972, \"frameworkRuntime\": 89, \"message\": \"JOW! Bob!\", \"userRuntime\": 0, \"cpuUsrDelta\": 0, \"cpuNiceDelta\": 0, \"cpuKrnDelta\": 1, \"cpuIdleDelta\": 6, \"cpuIowaitDelta\": 0, \"cpuIrqDelta\": 0, \"cpuSoftIrqDelta\": 0, \"vmcpustealDelta\": 0, \"contextSwitchesDelta\": 54, \"pageFaultsDelta\": 3848, \"frameworkRuntimeDeltas\": 24, \"runtime\": 113, \"endTime\": 1619848201671}{\n",
      "    \"StatusCode\": 200,\n",
      "    \"ExecutedVersion\": \"$LATEST\"\n",
      "}\n",
      "\n",
      "Testing helloWorld_pow on AWS Lambda...\n",
      "{\"version\": 0.5, \"lang\": \"python\", \"startTime\": 1619848201565, \"uuid\": \"bc928b46-58e9-48cd-9c7e-a3fdbeab70b1\", \"newcontainer\": 0, \"vmuptime\": 1619846402, \"platform\": \"AWS Lambda\", \"containerID\": \"2021/05/01/[$LATEST]b4822d2ecf8745f6bc9afdf15c16e424\", \"functionName\": \"helloWorld_pow\", \"functionMemory\": \"512\", \"functionRegion\": \"us-east-1\", \"vmID\": \"ox-roo\", \"linuxVersion\": \"Linux 169.254.216.81 4.14.225-175.364.amzn2.x86_64 #1 SMP Mon Mar 22 22:06:01 UTC 2021 x86_64 x86_64 x86_64 GNU/Linux\", \"totalMemory\": 642644, \"freeMemory\": 522868, \"pageFaults\": 106680, \"cpuType\": \"Intel(R) Xeon(R) Processor @ 2.50GHz\", \"cpuModel\": \"63\", \"cpuUsr\": 52, \"cpuNice\": 0, \"cpuKrn\": 112, \"cpuIdle\": 359675, \"cpuIowait\": 7, \"cpuIrq\": 0, \"cpuSoftIrq\": 1, \"vmcpusteal\": 36, \"contextSwitches\": 28528, \"frameworkRuntime\": 85, \"message\": \"CEOW! Bob!\", \"userRuntime\": 0, \"cpuUsrDelta\": 1, \"cpuNiceDelta\": 0, \"cpuKrnDelta\": 1, \"cpuIdleDelta\": 4, \"cpuIowaitDelta\": 0, \"cpuIrqDelta\": 0, \"cpuSoftIrqDelta\": 0, \"vmcpustealDelta\": 0, \"contextSwitchesDelta\": 49, \"pageFaultsDelta\": 3852, \"frameworkRuntimeDeltas\": 39, \"runtime\": 124, \"endTime\": 1619848201689}{\n",
      "    \"StatusCode\": 200,\n",
      "    \"ExecutedVersion\": \"$LATEST\"\n",
      "}\n",
      "\n"
     ]
    }
   ],
   "source": [
    "#\n",
    "# A Hello World Function\n",
    "#\n",
    "@cloud_function(platforms=[Platform.AWS], memory=512, config=config)\n",
    "def helloWorld(request, context):\n",
    "    import json\n",
    "    import logging\n",
    "    from Inspector import Inspector\n",
    "    import time\n",
    "    \n",
    "    # Import the module and collect data \n",
    "    inspector = Inspector()\n",
    "    inspector.inspectAll()\n",
    "\n",
    "    # Add custom message and finish the function\n",
    "    if ('name' in request):\n",
    "        inspector.addAttribute(\"message\", \"JOW! \" + str(request['name']) + \"!\")\n",
    "    else:\n",
    "        inspector.addAttribute(\"message\", \"World!\")\n",
    "    \n",
    "    inspector.inspectAllDeltas()\n",
    "    return inspector.finish()\n",
    "\n",
    "#\n",
    "# A Hello World Function\n",
    "#\n",
    "@cloud_function(platforms=[Platform.AWS], memory=512, config=config)\n",
    "def helloWorld_pow(request, context):\n",
    "    import json\n",
    "    import logging\n",
    "    from Inspector import Inspector\n",
    "    import time\n",
    "    \n",
    "    # Import the module and collect data \n",
    "    inspector = Inspector()\n",
    "    inspector.inspectAll()\n",
    "\n",
    "    # Add custom message and finish the function\n",
    "    if ('name' in request):\n",
    "        inspector.addAttribute(\"message\", \"CEOW! \" + str(request['name']) + \"!\")\n",
    "    else:\n",
    "        inspector.addAttribute(\"message\", \"World!\")\n",
    "    \n",
    "    inspector.inspectAllDeltas()\n",
    "    return inspector.finish()\n",
    "\n",
    "# Bulk test and deploy...\n",
    "threads = []\n",
    "functions = [helloWorld, helloWorld_pow]\n",
    "for func in functions:\n",
    "    thread = threading.Thread(target=test, args=(func, {\"name\": \"Bob\"}, config,))\n",
    "    threads.append(thread)\n",
    "    thread.start()\n",
    "for thread in threads:\n",
    "    thread.join()"
   ]
  },
  {
   "cell_type": "code",
   "execution_count": 16,
   "metadata": {},
   "outputs": [
    {
     "name": "stdout",
     "output_type": "stream",
     "text": [
      "Deploying calcPi to AWS Lambda...\n",
      "Deployment to AWS Lambda Complete!\n",
      "Testing calcPi on AWS Lambda...\n",
      "{\"version\": 0.5, \"lang\": \"python\", \"startTime\": 1619848329196, \"uuid\": \"75e7a95d-fcfd-4593-b380-966ec763f46d\", \"newcontainer\": 0, \"vmuptime\": 1619846845, \"platform\": \"AWS Lambda\", \"containerID\": \"2021/05/01/[$LATEST]429b296f4b3b455e9c82bafb22abfe1f\", \"functionName\": \"calcPi\", \"functionMemory\": \"512\", \"functionRegion\": \"us-east-1\", \"vmID\": \"\", \"linuxVersion\": \"Linux 169.254.109.213 4.14.225-175.364.amzn2.x86_64 #1 SMP Mon Mar 22 22:06:01 UTC 2021 x86_64 x86_64 x86_64 GNU/Linux\", \"totalMemory\": 642644, \"freeMemory\": 497904, \"pageFaults\": 100376, \"cpuType\": \"Intel(R) Xeon(R) Processor @ 2.50GHz\", \"cpuModel\": \"63\", \"cpuUsr\": 69, \"cpuNice\": 0, \"cpuKrn\": 110, \"cpuIdle\": 296487, \"cpuIowait\": 10, \"cpuIrq\": 0, \"cpuSoftIrq\": 4, \"vmcpusteal\": 49, \"contextSwitches\": 28180, \"frameworkRuntime\": 103, \"digits\": 3.140592653839794, \"hello\": \"JOW! PI Function!\", \"userRuntime\": 236, \"cpuUsrDelta\": 2, \"cpuNiceDelta\": 0, \"cpuKrnDelta\": 1, \"cpuIdleDelta\": 49, \"cpuIowaitDelta\": 0, \"cpuIrqDelta\": 0, \"cpuSoftIrqDelta\": 0, \"vmcpustealDelta\": 0, \"contextSwitchesDelta\": 141, \"pageFaultsDelta\": 5630, \"frameworkRuntimeDeltas\": 40, \"runtime\": 379, \"endTime\": 1619848329575}{\n",
      "    \"StatusCode\": 200,\n",
      "    \"ExecutedVersion\": \"$LATEST\"\n",
      "}\n",
      "\n"
     ]
    }
   ],
   "source": [
    "#\n",
    "# A Pi Calculator\n",
    "#\n",
    "@cloud_function(platforms=[Platform.AWS], memory=512, config=config, references=[helloWorld])\n",
    "def calcPi(request, context):\n",
    "    import json\n",
    "    import logging\n",
    "    from Inspector import Inspector\n",
    "    import time\n",
    "    \n",
    "    # Import the module and collect data\n",
    "    inspector = Inspector()\n",
    "    inspector.inspectAll()\n",
    "    \n",
    "    # Calculate digits and return\n",
    "    digits = int(request[\"digits\"])\n",
    "    \n",
    "    # Pi Digits function from\n",
    "    # https://www.geeksforgeeks.org/calculate-pi-with-python/ \n",
    "    k = 1\n",
    "    s = 0\n",
    "    for i in range(digits):\n",
    "        if i % 2 == 0:\n",
    "            s += 4 / k\n",
    "        else:\n",
    "            s -= 4 / k\n",
    "        k += 2\n",
    "    \n",
    "    inspector.addAttribute(\"digits\", s)\n",
    "    \n",
    "    request = {\n",
    "        \"name\": \"PI Function\"\n",
    "    }\n",
    "    \n",
    "    helloString = helloWorld(request, None)\n",
    "    inspector.addAttribute(\"hello\", helloString['message'])\n",
    "    \n",
    "    inspector.inspectAllDeltas()\n",
    "    return inspector.finish()\n",
    "    \n",
    "test(function=calcPi, payload={\"digits\": 1000}, config=config)"
   ]
  },
  {
   "cell_type": "markdown",
   "metadata": {},
   "source": [
    "# Execute Experiments\n",
    "\n",
    "Use FaaS Runner to execute complex FaaS Experiments."
   ]
  },
  {
   "cell_type": "code",
   "execution_count": 17,
   "metadata": {},
   "outputs": [
    {
     "data": {
      "application/vnd.jupyter.widget-view+json": {
       "model_id": "237ecb415842433fa7601252170f0864",
       "version_major": 2,
       "version_minor": 0
      },
      "text/plain": "  0%|          | 0/100 [00:00<?, ?it/s]"
     },
     "metadata": {},
     "output_type": "display_data"
    },
    {
     "data": {
      "text/html": "<div>\n<style scoped>\n    .dataframe tbody tr th:only-of-type {\n        vertical-align: middle;\n    }\n\n    .dataframe tbody tr th {\n        vertical-align: top;\n    }\n\n    .dataframe thead th {\n        text-align: right;\n    }\n</style>\n<table border=\"1\" class=\"dataframe\">\n  <thead>\n    <tr style=\"text-align: right;\">\n      <th></th>\n      <th>1_run_id</th>\n      <th>2_thread_id</th>\n      <th>containerID</th>\n      <th>contextSwitches</th>\n      <th>contextSwitchesDelta</th>\n      <th>cpuIdle</th>\n      <th>cpuIdleDelta</th>\n      <th>cpuIowait</th>\n      <th>cpuIowaitDelta</th>\n      <th>cpuIrq</th>\n      <th>...</th>\n      <th>runtime</th>\n      <th>runtimeOverlap</th>\n      <th>startTime</th>\n      <th>totalMemory</th>\n      <th>userRuntime</th>\n      <th>uuid</th>\n      <th>vmID</th>\n      <th>vmcpusteal</th>\n      <th>vmcpustealDelta</th>\n      <th>vmuptime</th>\n    </tr>\n  </thead>\n  <tbody>\n    <tr>\n      <th>0</th>\n      <td>0</td>\n      <td>3</td>\n      <td>2021/05/01/[$LATEST]fa4bb56e58b6484299e33f9ddb...</td>\n      <td>24458</td>\n      <td>131</td>\n      <td>126844</td>\n      <td>140</td>\n      <td>3</td>\n      <td>0</td>\n      <td>0</td>\n      <td>...</td>\n      <td>865</td>\n      <td>5.18</td>\n      <td>1619848487389</td>\n      <td>642644</td>\n      <td>776</td>\n      <td>edec3f82-dc9f-4a7d-8389-7ceb2bdca9b6</td>\n      <td>NaN</td>\n      <td>5</td>\n      <td>0</td>\n      <td>1619847851</td>\n    </tr>\n    <tr>\n      <th>1</th>\n      <td>0</td>\n      <td>4</td>\n      <td>2021/05/01/[$LATEST]127c08b4d0aa400981222e4386...</td>\n      <td>34366</td>\n      <td>156</td>\n      <td>458307</td>\n      <td>141</td>\n      <td>5</td>\n      <td>0</td>\n      <td>0</td>\n      <td>...</td>\n      <td>893</td>\n      <td>5.05</td>\n      <td>1619848487365</td>\n      <td>642644</td>\n      <td>765</td>\n      <td>07bd66f3-0a56-4187-b115-fe6b8b98197a</td>\n      <td>NaN</td>\n      <td>26</td>\n      <td>0</td>\n      <td>1619846194</td>\n    </tr>\n    <tr>\n      <th>2</th>\n      <td>0</td>\n      <td>0</td>\n      <td>2021/05/01/[$LATEST]728b9cdd7501411386ffa2b146...</td>\n      <td>31571</td>\n      <td>148</td>\n      <td>324950</td>\n      <td>136</td>\n      <td>6</td>\n      <td>0</td>\n      <td>0</td>\n      <td>...</td>\n      <td>875</td>\n      <td>7.29</td>\n      <td>1619848487628</td>\n      <td>642644</td>\n      <td>759</td>\n      <td>8d3263b1-2dc3-456e-9ea8-7d5eb06a97b1</td>\n      <td>ox-roo</td>\n      <td>31</td>\n      <td>1</td>\n      <td>1619846861</td>\n    </tr>\n    <tr>\n      <th>3</th>\n      <td>0</td>\n      <td>1</td>\n      <td>2021/05/01/[$LATEST]709f5b5955444b03be05ad70b0...</td>\n      <td>30476</td>\n      <td>192</td>\n      <td>324653</td>\n      <td>145</td>\n      <td>4</td>\n      <td>0</td>\n      <td>0</td>\n      <td>...</td>\n      <td>891</td>\n      <td>6.38</td>\n      <td>1619848487513</td>\n      <td>642644</td>\n      <td>784</td>\n      <td>6ede4ce5-c715-43c9-8f0f-d7b88291def7</td>\n      <td>NaN</td>\n      <td>23</td>\n      <td>0</td>\n      <td>1619846862</td>\n    </tr>\n    <tr>\n      <th>4</th>\n      <td>0</td>\n      <td>6</td>\n      <td>2021/05/01/[$LATEST]54411ff184674df4bfaea6e6ae...</td>\n      <td>30553</td>\n      <td>138</td>\n      <td>307233</td>\n      <td>141</td>\n      <td>9</td>\n      <td>0</td>\n      <td>0</td>\n      <td>...</td>\n      <td>874</td>\n      <td>7.83</td>\n      <td>1619848487688</td>\n      <td>642644</td>\n      <td>783</td>\n      <td>f4d0445c-d420-46a2-a365-f119c79e9bbf</td>\n      <td>ox-roo</td>\n      <td>26</td>\n      <td>0</td>\n      <td>1619846949</td>\n    </tr>\n    <tr>\n      <th>...</th>\n      <td>...</td>\n      <td>...</td>\n      <td>...</td>\n      <td>...</td>\n      <td>...</td>\n      <td>...</td>\n      <td>...</td>\n      <td>...</td>\n      <td>...</td>\n      <td>...</td>\n      <td>...</td>\n      <td>...</td>\n      <td>...</td>\n      <td>...</td>\n      <td>...</td>\n      <td>...</td>\n      <td>...</td>\n      <td>...</td>\n      <td>...</td>\n      <td>...</td>\n      <td>...</td>\n    </tr>\n    <tr>\n      <th>195</th>\n      <td>3</td>\n      <td>44</td>\n      <td>2021/05/01/[$LATEST]e710e78191824855ae4ff6b0d6...</td>\n      <td>27878</td>\n      <td>152</td>\n      <td>138591</td>\n      <td>137</td>\n      <td>5</td>\n      <td>0</td>\n      <td>0</td>\n      <td>...</td>\n      <td>899</td>\n      <td>9.57</td>\n      <td>1619848497803</td>\n      <td>642644</td>\n      <td>757</td>\n      <td>70bca606-de0e-4757-a689-13c7f5481578</td>\n      <td>NaN</td>\n      <td>20</td>\n      <td>0</td>\n      <td>1619847802</td>\n    </tr>\n    <tr>\n      <th>196</th>\n      <td>3</td>\n      <td>39</td>\n      <td>2021/05/01/[$LATEST]728b9cdd7501411386ffa2b146...</td>\n      <td>35392</td>\n      <td>155</td>\n      <td>326784</td>\n      <td>138</td>\n      <td>6</td>\n      <td>0</td>\n      <td>0</td>\n      <td>...</td>\n      <td>872</td>\n      <td>9.21</td>\n      <td>1619848497853</td>\n      <td>642644</td>\n      <td>769</td>\n      <td>8d3263b1-2dc3-456e-9ea8-7d5eb06a97b1</td>\n      <td>ox-roo</td>\n      <td>36</td>\n      <td>1</td>\n      <td>1619846861</td>\n    </tr>\n    <tr>\n      <th>197</th>\n      <td>3</td>\n      <td>48</td>\n      <td>2021/05/01/[$LATEST]79f272641d604f3eb016c4aae3...</td>\n      <td>33189</td>\n      <td>165</td>\n      <td>369650</td>\n      <td>134</td>\n      <td>6</td>\n      <td>0</td>\n      <td>0</td>\n      <td>...</td>\n      <td>847</td>\n      <td>8.82</td>\n      <td>1619848497899</td>\n      <td>642644</td>\n      <td>748</td>\n      <td>18847086-73e1-49d0-983f-859f4dc62a2e</td>\n      <td>NaN</td>\n      <td>68</td>\n      <td>0</td>\n      <td>1619846647</td>\n    </tr>\n    <tr>\n      <th>198</th>\n      <td>3</td>\n      <td>27</td>\n      <td>2021/05/01/[$LATEST]fa4bb56e58b6484299e33f9ddb...</td>\n      <td>26686</td>\n      <td>137</td>\n      <td>128832</td>\n      <td>138</td>\n      <td>3</td>\n      <td>0</td>\n      <td>0</td>\n      <td>...</td>\n      <td>849</td>\n      <td>8.45</td>\n      <td>1619848497922</td>\n      <td>642644</td>\n      <td>769</td>\n      <td>edec3f82-dc9f-4a7d-8389-7ceb2bdca9b6</td>\n      <td>NaN</td>\n      <td>5</td>\n      <td>0</td>\n      <td>1619847851</td>\n    </tr>\n    <tr>\n      <th>199</th>\n      <td>3</td>\n      <td>40</td>\n      <td>2021/05/01/[$LATEST]54acf110bb6b4882a59bbd727d...</td>\n      <td>32823</td>\n      <td>151</td>\n      <td>355813</td>\n      <td>155</td>\n      <td>6</td>\n      <td>0</td>\n      <td>0</td>\n      <td>...</td>\n      <td>974</td>\n      <td>8.50</td>\n      <td>1619848497838</td>\n      <td>642644</td>\n      <td>842</td>\n      <td>c378cad8-0b57-4f03-b8f7-480c04bfe908</td>\n      <td>NaN</td>\n      <td>18</td>\n      <td>0</td>\n      <td>1619846716</td>\n    </tr>\n  </tbody>\n</table>\n<p>200 rows × 48 columns</p>\n</div>",
      "text/plain": "     1_run_id  2_thread_id                                        containerID  \\\n0           0            3  2021/05/01/[$LATEST]fa4bb56e58b6484299e33f9ddb...   \n1           0            4  2021/05/01/[$LATEST]127c08b4d0aa400981222e4386...   \n2           0            0  2021/05/01/[$LATEST]728b9cdd7501411386ffa2b146...   \n3           0            1  2021/05/01/[$LATEST]709f5b5955444b03be05ad70b0...   \n4           0            6  2021/05/01/[$LATEST]54411ff184674df4bfaea6e6ae...   \n..        ...          ...                                                ...   \n195         3           44  2021/05/01/[$LATEST]e710e78191824855ae4ff6b0d6...   \n196         3           39  2021/05/01/[$LATEST]728b9cdd7501411386ffa2b146...   \n197         3           48  2021/05/01/[$LATEST]79f272641d604f3eb016c4aae3...   \n198         3           27  2021/05/01/[$LATEST]fa4bb56e58b6484299e33f9ddb...   \n199         3           40  2021/05/01/[$LATEST]54acf110bb6b4882a59bbd727d...   \n\n     contextSwitches  contextSwitchesDelta  cpuIdle  cpuIdleDelta  cpuIowait  \\\n0              24458                   131   126844           140          3   \n1              34366                   156   458307           141          5   \n2              31571                   148   324950           136          6   \n3              30476                   192   324653           145          4   \n4              30553                   138   307233           141          9   \n..               ...                   ...      ...           ...        ...   \n195            27878                   152   138591           137          5   \n196            35392                   155   326784           138          6   \n197            33189                   165   369650           134          6   \n198            26686                   137   128832           138          3   \n199            32823                   151   355813           155          6   \n\n     cpuIowaitDelta  cpuIrq  ...  runtime  runtimeOverlap      startTime  \\\n0                 0       0  ...      865            5.18  1619848487389   \n1                 0       0  ...      893            5.05  1619848487365   \n2                 0       0  ...      875            7.29  1619848487628   \n3                 0       0  ...      891            6.38  1619848487513   \n4                 0       0  ...      874            7.83  1619848487688   \n..              ...     ...  ...      ...             ...            ...   \n195               0       0  ...      899            9.57  1619848497803   \n196               0       0  ...      872            9.21  1619848497853   \n197               0       0  ...      847            8.82  1619848497899   \n198               0       0  ...      849            8.45  1619848497922   \n199               0       0  ...      974            8.50  1619848497838   \n\n     totalMemory  userRuntime                                  uuid    vmID  \\\n0         642644          776  edec3f82-dc9f-4a7d-8389-7ceb2bdca9b6     NaN   \n1         642644          765  07bd66f3-0a56-4187-b115-fe6b8b98197a     NaN   \n2         642644          759  8d3263b1-2dc3-456e-9ea8-7d5eb06a97b1  ox-roo   \n3         642644          784  6ede4ce5-c715-43c9-8f0f-d7b88291def7     NaN   \n4         642644          783  f4d0445c-d420-46a2-a365-f119c79e9bbf  ox-roo   \n..           ...          ...                                   ...     ...   \n195       642644          757  70bca606-de0e-4757-a689-13c7f5481578     NaN   \n196       642644          769  8d3263b1-2dc3-456e-9ea8-7d5eb06a97b1  ox-roo   \n197       642644          748  18847086-73e1-49d0-983f-859f4dc62a2e     NaN   \n198       642644          769  edec3f82-dc9f-4a7d-8389-7ceb2bdca9b6     NaN   \n199       642644          842  c378cad8-0b57-4f03-b8f7-480c04bfe908     NaN   \n\n     vmcpusteal vmcpustealDelta    vmuptime  \n0             5               0  1619847851  \n1            26               0  1619846194  \n2            31               1  1619846861  \n3            23               0  1619846862  \n4            26               0  1619846949  \n..          ...             ...         ...  \n195          20               0  1619847802  \n196          36               1  1619846861  \n197          68               0  1619846647  \n198           5               0  1619847851  \n199          18               0  1619846716  \n\n[200 rows x 48 columns]"
     },
     "execution_count": 17,
     "metadata": {},
     "output_type": "execute_result"
    }
   ],
   "source": [
    "experiment = {\n",
    "\t\"callWithCLI\": True,\n",
    "  \"callAsync\": False,\n",
    "  \"memorySettings\": [],\n",
    "  \"payloads\": [{\"digits\": 1000000}],\n",
    "  \"runs\": 200,\n",
    "  \"threads\": 50,\n",
    "  \"iterations\": 2,\n",
    "  \"sleepTime\": 5,\n",
    "  \"randomSeed\": 42,\n",
    "  \"outputGroups\": [],\n",
    "  \"outputRawOfGroup\": [],\n",
    "  \"showAsList\": [],\n",
    "  \"showAsSum\": [\"newcontainer\"],\n",
    "  \"ignoreFromAll\": [\"zAll\", \"version\", \"linuxVersion\", \"hostname\"],\n",
    "  \"ignoreFromGroups\": [\"1_run_id\", \"2_thread_id\", \"cpuModel\", \"cpuIdle\", \"cpuIowait\", \"cpuIrq\", \"cpuKrn\", \"cpuNice\", \"cpuSoftIrq\", \"cpuUsr\"],\n",
    "  \"ignoreByGroup\": {\n",
    "  \"containerID\": [\"containerID\"],\n",
    "  \"cpuType\": [\"cpuType\"],\n",
    "  \"vmID\": [\"vmID\"]\n",
    "  },\n",
    "  \"invalidators\": {},\n",
    "  \"removeDuplicateContainers\": False,\n",
    "  \"overlapFilter\": \"functionName\",\n",
    "  \"openCSV\": False,\n",
    "  \"combineSheets\": True,\n",
    "  \"warmupBuffer\": 0\n",
    "}\n",
    "\n",
    "results = run_experiment(function=calcPi, platform=Platform.AWS, experiment=experiment, config=config)\n",
    "results"
   ]
  },
  {
   "cell_type": "markdown",
   "metadata": {},
   "source": [
    "# Process Results\n",
    "\n",
    "FaaS Runner experiment results are parsed into a Pandas dataframe. This the flexibility to perform any kind of data processing that you would like."
   ]
  },
  {
   "cell_type": "code",
   "execution_count": 5,
   "metadata": {},
   "outputs": [
    {
     "data": {
      "text/plain": "(array([22., 61., 11.,  0.,  0.,  1.,  0.,  1.,  2.,  2.]),\n array([ 756. ,  789.5,  823. ,  856.5,  890. ,  923.5,  957. ,  990.5,\n        1024. , 1057.5, 1091. ]),\n <BarContainer object of 10 artists>)"
     },
     "execution_count": 5,
     "metadata": {},
     "output_type": "execute_result"
    },
    {
     "data": {
      "image/png": "[encoded data removed]",
      "text/plain": "<Figure size 432x288 with 1 Axes>"
     },
     "metadata": {
      "needs_background": "light"
     },
     "output_type": "display_data"
    }
   ],
   "source": [
    "import matplotlib.pyplot as plt\n",
    "%matplotlib inline\n",
    "\n",
    "# Average Runtime\n",
    "#np.average(results['userRuntime'])\n",
    "\n",
    "# Histogram of Runtime\n",
    "plt.hist(results['userRuntime'], 10)\n",
    "\n",
    "# Scatter plot of CPU Profile\n",
    "#plt.plot(results['cpuUsrDelta'], results['cpuIdleDelta'], 'o', color='black')"
   ]
  },
  {
   "cell_type": "code",
   "execution_count": 18,
   "metadata": {},
   "outputs": [
    {
     "name": "stdout",
     "output_type": "stream",
     "text": [
      "Deploying calcPiDistributor to AWS Lambda...\n",
      "Deployment to AWS Lambda Complete!\n",
      "Testing calcPiDistributor on AWS Lambda...\n",
      "{\"version\": 0.5, \"lang\": \"python\", \"startTime\": 1619848740520, \"uuid\": \"d9a5e894-9db2-4235-bb65-8b65d42caf4a\", \"newcontainer\": 0, \"vmuptime\": 1619847234, \"platform\": \"AWS Lambda\", \"containerID\": \"2021/05/01/[$LATEST]67434e93452a4a46810754b6574946d1\", \"functionName\": \"calcPiDistributor\", \"functionMemory\": \"512\", \"functionRegion\": \"us-east-1\", \"vmID\": \"\", \"linuxVersion\": \"Linux 169.254.183.109 4.14.225-175.364.amzn2.x86_64 #1 SMP Mon Mar 22 22:06:01 UTC 2021 x86_64 x86_64 x86_64 GNU/Linux\", \"totalMemory\": 642644, \"freeMemory\": 497304, \"pageFaults\": 100363, \"cpuType\": \"Intel(R) Xeon(R) Processor @ 2.50GHz\", \"cpuModel\": \"63\", \"cpuUsr\": 57, \"cpuNice\": 0, \"cpuKrn\": 93, \"cpuIdle\": 301060, \"cpuIowait\": 8, \"cpuIrq\": 0, \"cpuSoftIrq\": 1, \"vmcpusteal\": 25, \"contextSwitches\": 28470, \"frameworkRuntime\": 96, \"userRuntime\": 1197, \"cpuUsrDelta\": 5, \"cpuNiceDelta\": 0, \"cpuKrnDelta\": 2, \"cpuIdleDelta\": 213, \"cpuIowaitDelta\": 0, \"cpuIrqDelta\": 0, \"cpuSoftIrqDelta\": 1, \"vmcpustealDelta\": 0, \"contextSwitchesDelta\": 7457, \"pageFaultsDelta\": 9349, \"frameworkRuntimeDeltas\": 24, \"runtime\": 1317, \"endTime\": 1619848741837}{\n",
      "    \"StatusCode\": 200,\n",
      "    \"ExecutedVersion\": \"$LATEST\"\n",
      "}\n",
      "\n"
     ]
    }
   ],
   "source": [
    "@cloud_function(platforms=[Platform.AWS], memory=512, config=config, references=[calcPi])\n",
    "def calcPiDistributor(request, context):\n",
    "    import json\n",
    "    import logging\n",
    "    from Inspector import Inspector\n",
    "    import time\n",
    "    import threading\n",
    "    \n",
    "    # Import the module and collect data\n",
    "    inspector = Inspector()\n",
    "    inspector.inspectAll()\n",
    "\n",
    "    threads = []\n",
    "    for x in range(request['runs']):\n",
    "        threads.append(threading.Thread(target=calcPi, args=({\"digits\": 10000}, None,)))\n",
    "    for thread in threads:\n",
    "        thread.start()\n",
    "    for thread in threads:\n",
    "        thread.join()\n",
    "    \n",
    "    inspector.inspectAllDeltas()\n",
    "    return inspector.finish()\n",
    "\n",
    "test(function=calcPiDistributor, payload={\"runs\": 20}, config=config)"
   ]
  }
 ],
 "metadata": {
  "kernelspec": {
   "display_name": "Python 3.8.5 64-bit",
   "name": "python385jvsc74a57bd031f2aee4e71d21fbe5cf8b01ff0e069b9275f58929596ceb00d14d90e3e16cd6"
  },
  "language_info": {
   "codemirror_mode": {
    "name": "ipython",
    "version": 3
   },
   "file_extension": ".py",
   "mimetype": "text/x-python",
   "name": "python",
   "nbconvert_exporter": "python",
   "pygments_lexer": "ipython3",
   "version": "3.8.5"
  },
  "metadata": {
   "interpreter": {
    "hash": "31f2aee4e71d21fbe5cf8b01ff0e069b9275f58929596ceb00d14d90e3e16cd6"
   }
  },
  "orig_nbformat": 2
 },
 "nbformat": 4,
 "nbformat_minor": 2
}