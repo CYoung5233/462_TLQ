{
 "cells": [
  {
   "cell_type": "markdown",
   "metadata": {},
   "source": [
    "# SAAF Notebook\n",
    "\n",
    "This Jupyter Notebook provides an interactive platform for FaaS development. "
   ]
  },
  {
   "cell_type": "code",
   "execution_count": 1,
   "metadata": {},
   "outputs": [],
   "source": [
    "# Imports and setup for the notebook.\n",
    "import os\n",
    "import sys\n",
    "sys.path.append(os.path.realpath('..'))\n",
    "from platforms.jupyter.interactive_helpers import *\n",
    "\n",
    "# Configure your function here details here.\n",
    "config = {\n",
    "    \"lambdaRoleARN\": \"arn:aws:iam::616835888336:role/service-role/simple_microservice_role\"\n",
    "}"
   ]
  },
  {
   "cell_type": "markdown",
   "metadata": {},
   "source": [
    "# Write Functions\n",
    "\n",
    "Any function with the @cloud_function decorator will be uploaded to the cloud. Define platforms and memory settings in the decorator. Functions are tested locally and must run sucessfully before being deployed."
   ]
  },
  {
   "cell_type": "code",
   "execution_count": 2,
   "metadata": {},
   "outputs": [],
   "source": [
    "#\n",
    "# A Hello World Function\n",
    "#\n",
    "@cloud_function(platforms=[Platform.AWS], memory=512, config=config)\n",
    "def helloWorld(request, context):\n",
    "    import json\n",
    "    import logging\n",
    "    from Inspector import Inspector\n",
    "    import time\n",
    "    \n",
    "    # Import the module and collect data \n",
    "    inspector = Inspector()\n",
    "    inspector.inspectAll()\n",
    "\n",
    "    # Add custom message and finish the function\n",
    "    if ('name' in request):\n",
    "        inspector.addAttribute(\"message\", \"JOW! \" + str(request['name']) + \"!\")\n",
    "    else:\n",
    "        inspector.addAttribute(\"message\", \"World!\")\n",
    "    \n",
    "    inspector.inspectAllDeltas()\n",
    "    return inspector.finish()"
   ]
  },
  {
   "cell_type": "code",
   "execution_count": null,
   "metadata": {},
   "outputs": [],
   "source": [
    "#\n",
    "# A Pi Calculator\n",
    "#\n",
    "@cloud_function(platforms=[Platform.AWS], memory=512, config=config, references=[helloWorld])\n",
    "def calcPi(request, context):\n",
    "    import json\n",
    "    import logging\n",
    "    from Inspector import Inspector\n",
    "    import time\n",
    "    \n",
    "    # Import the module and collect data\n",
    "    inspector = Inspector()\n",
    "    inspector.inspectAll()\n",
    "    \n",
    "    # Calculate digits and return\n",
    "    digits = int(request[\"digits\"])\n",
    "    \n",
    "    # Pi Digits function from\n",
    "    # https://www.geeksforgeeks.org/calculate-pi-with-python/ \n",
    "    k = 1\n",
    "    s = 0\n",
    "    for i in range(digits):\n",
    "        if i % 2 == 0:\n",
    "            s += 4 / k\n",
    "        else:\n",
    "            s -= 4 / k\n",
    "        k += 2\n",
    "    \n",
    "    inspector.addAttribute(\"digits\", s)\n",
    "    \n",
    "    request = {\n",
    "        \"name\": \"PI Function\"\n",
    "    }\n",
    "    \n",
    "    helloString = helloWorld(request, None)\n",
    "    inspector.addAttribute(\"hello\", helloString['message'])\n",
    "    \n",
    "    inspector.inspectAllDeltas()\n",
    "    return inspector.finish()\n",
    "    \n",
    "test(function=calcPi, payload={\"digits\": 1000}, config=config)"
   ]
  },
  {
   "cell_type": "markdown",
   "metadata": {},
   "source": [
    "# Execute Experiments\n",
    "\n",
    "Use FaaS Runner to execute complex FaaS Experiments."
   ]
  },
  {
   "cell_type": "code",
   "execution_count": null,
   "metadata": {},
   "outputs": [],
   "source": [
    "experiment = {\n",
    "\t\"callWithCLI\": True,\n",
    "  \"callAsync\": False,\n",
    "  \"memorySettings\": [],\n",
    "  \"payloads\": [{\"digits\": 1000000}],\n",
    "  \"runs\": 200,\n",
    "  \"threads\": 50,\n",
    "  \"iterations\": 2,\n",
    "  \"sleepTime\": 5,\n",
    "  \"randomSeed\": 42,\n",
    "  \"outputGroups\": [],\n",
    "  \"outputRawOfGroup\": [],\n",
    "  \"showAsList\": [],\n",
    "  \"showAsSum\": [\"newcontainer\"],\n",
    "  \"ignoreFromAll\": [\"zAll\", \"version\", \"linuxVersion\", \"hostname\"],\n",
    "  \"ignoreFromGroups\": [\"1_run_id\", \"2_thread_id\", \"cpuModel\", \"cpuIdle\", \"cpuIowait\", \"cpuIrq\", \"cpuKrn\", \"cpuNice\", \"cpuSoftIrq\", \"cpuUsr\"],\n",
    "  \"ignoreByGroup\": {\n",
    "  \"containerID\": [\"containerID\"],\n",
    "  \"cpuType\": [\"cpuType\"],\n",
    "  \"vmID\": [\"vmID\"]\n",
    "  },\n",
    "  \"invalidators\": {},\n",
    "  \"removeDuplicateContainers\": False,\n",
    "  \"overlapFilter\": \"functionName\",\n",
    "  \"openCSV\": False,\n",
    "  \"combineSheets\": True,\n",
    "  \"warmupBuffer\": 0\n",
    "}\n",
    "\n",
    "results = run_experiment(function=calcPi, platform=Platform.AWS, experiment=experiment, config=config)\n",
    "results"
   ]
  },
  {
   "cell_type": "markdown",
   "metadata": {},
   "source": [
    "# Process Results\n",
    "\n",
    "FaaS Runner experiment results are parsed into a Pandas dataframe. This the flexibility to perform any kind of data processing that you would like."
   ]
  },
  {
   "cell_type": "code",
   "execution_count": null,
   "metadata": {},
   "outputs": [],
   "source": [
    "import matplotlib.pyplot as plt\n",
    "%matplotlib inline\n",
    "\n",
    "# Average Runtime\n",
    "#np.average(results['userRuntime'])\n",
    "\n",
    "# Histogram of Runtime\n",
    "plt.hist(results['userRuntime'], 10)\n",
    "\n",
    "# Scatter plot of CPU Profile\n",
    "#plt.plot(results['cpuUsrDelta'], results['cpuIdleDelta'], 'o', color='black')"
   ]
  },
  {
   "cell_type": "code",
   "execution_count": null,
   "metadata": {},
   "outputs": [],
   "source": [
    "@cloud_function(platforms=[Platform.AWS], memory=512, config=config, references=[calcPi])\n",
    "def calcPiDistributor(request, context):\n",
    "    import json\n",
    "    import logging\n",
    "    from Inspector import Inspector\n",
    "    import time\n",
    "    import threading\n",
    "    \n",
    "    # Import the module and collect data\n",
    "    inspector = Inspector()\n",
    "    inspector.inspectAll()\n",
    "\n",
    "    threads = []\n",
    "    for x in range(request['runs']):\n",
    "        threads.append(threading.Thread(target=calcPi, args=({\"digits\": 10000}, None,)))\n",
    "    for thread in threads:\n",
    "        thread.start()\n",
    "    for thread in threads:\n",
    "        thread.join()\n",
    "    \n",
    "    inspector.inspectAllDeltas()\n",
    "    return inspector.finish()\n",
    "\n",
    "test(function=calcPiDistributor, payload={\"runs\": 20}, config=config)"
   ]
  }
 ],
 "metadata": {
  "kernelspec": {
   "display_name": "Python 3.8.5 64-bit",
   "name": "python385jvsc74a57bd031f2aee4e71d21fbe5cf8b01ff0e069b9275f58929596ceb00d14d90e3e16cd6"
  },
  "language_info": {
   "codemirror_mode": {
    "name": "ipython",
    "version": 3
   },
   "file_extension": ".py",
   "mimetype": "text/x-python",
   "name": "python",
   "nbconvert_exporter": "python",
   "pygments_lexer": "ipython3",
   "version": "3.8.5"
  },
  "metadata": {
   "interpreter": {
    "hash": "31f2aee4e71d21fbe5cf8b01ff0e069b9275f58929596ceb00d14d90e3e16cd6"
   }
  },
  "orig_nbformat": 2
 },
 "nbformat": 4,
 "nbformat_minor": 2
}