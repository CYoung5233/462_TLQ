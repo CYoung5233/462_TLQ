{
 "cells": [
  {
   "cell_type": "code",
   "execution_count": 1,
   "metadata": {},
   "outputs": [
    {
     "name": "stdout",
     "output_type": "stream",
     "text": [
      "------------------------------------------------------\n",
      "             Welcome to FaaSET v3.1!\n",
      "------------------------------------------------------\n",
      "Available platforms:  aws_docker_arm. aws_docker_debian. archive. azure. aws_function_url. aws_docker. google_gen2. ibm. local. aws_api_gateway. aws_boto3. aws. google_gen1. \n",
      "------------------------------------------------------\n",
      "Loaded functions:  skyf_128_arm. skyf_4096_x86. skyf_1024_x86_redeploy. skyf_8192_arm. skyf_512_arm. skyf_256_x86_redeploy. skyf_6144_arm. hello_world. skyf_10240_arm. skyf_2048_x86_redeploy. skyf_10240_x86. skyf_6144_x86. skyf_8192_x86. skyf_512_x86. fast_experiment (Unknown). skyf_128_x86. skyf_4096_arm. skyf_10240_x86_redeploy. skyf_2048_x86. skyf_4096_x86_redeploy. skyf_1024_x86. dynamic_function2. dynamic_function3. skyf_256_x86. skyf_6144_x86_redeploy. skyf_512_x86_redeploy. skyf_256_arm. skyf_8192_x86_redeploy. skyf_128_x86_redeploy. skyf_2048_arm. skyf_1024_arm. dynamic_function3_arm. \n"
     ]
    }
   ],
   "source": [
    "import FaaSET\n",
    "import FaaSRunner\n",
    "import json\n",
    "\n",
    "regions = {\n",
    "    \"af-south-1\": {\"lat\": -34.0486, \"lon\": 18.4811},\n",
    "    \"ap-east-1\": {\"lat\": 22.285521, \"lon\": 114.157692},\n",
    "    \"ap-northeast-1\": {\"lat\": 35.6893, \"lon\": 139.6899},\n",
    "    \"ap-northeast-2\": {\"lat\": 37.4585, \"lon\": 126.7015},\n",
    "    \"ap-northeast-3\": {\"lat\": 34.6946, \"lon\": 135.5021},\n",
    "    \"ap-south-1\": {\"lat\": 19.0748, \"lon\": 72.8856},\n",
    "    \"ap-southeast-1\": {\"lat\": 1.3036, \"lon\": 103.8554},\n",
    "    \"ap-southeast-2\": {\"lat\": -33.8715, \"lon\": 151.2006},\n",
    "    \"ca-central-1\": {\"lat\": 45.4995, \"lon\": -73.5848},\n",
    "    \"eu-central-1\": {\"lat\": 50.1188, \"lon\": 8.6843},\n",
    "    \"eu-north-1\": {\"lat\": 59.3287, \"lon\": 18.0717},\n",
    "    \"eu-south-1\": {\"lat\": 45.4722, \"lon\": 9.1922},\n",
    "    \"eu-west-1\": {\"lat\": 53.3379, \"lon\": -6.2591},\n",
    "    \"eu-west-2\": {\"lat\": 51.5164, \"lon\": -0.093},\n",
    "    \"eu-west-3\": {\"lat\": 48.8323, \"lon\": 2.4075},\n",
    "    \"sa-east-1\": {\"lat\": -23.5335, \"lon\": -46.6359},\n",
    "    \"us-east-1\": {\"lat\": 39.0469, \"lon\": -77.4903},\n",
    "    \"us-east-2\": {\"lat\": 39.9625, \"lon\": -83.0061},\n",
    "    \"us-west-1\": {\"lat\": 37.1835, \"lon\": -121.7714},\n",
    "    \"us-west-2\": {\"lat\": 45.8234, \"lon\": -119.7257},\n",
    "    \"ca-west-1\": {\"lat\": 53.7267, \"lon\": -127.6476},\n",
    "    \"ap-south-2\": {\"lat\": 19.9975, \"lon\": 73.7898},\n",
    "    \"ap-southeast-3\": {\"lat\": 1.3521, \"lon\": 103.8198},\n",
    "    \"ap-southeast-4\": {\"lat\": 1.3521, \"lon\": 103.8198},\n",
    "    \"eu-south-2\": {\"lat\": 41.9028, \"lon\": 12.4964},\n",
    "    \"eu-central-2\": {\"lat\": 50.1109, \"lon\": 8.6821},\n",
    "    \"me-south-1\": {\"lat\": 24.7743, \"lon\": 46.7384},\n",
    "    \"me-central-1\": {\"lat\": 24.7743, \"lon\": 46.7384},\n",
    "    \"il-central-1\": {\"lat\": 31.0461, \"lon\": 34.8516}\n",
    "}\n",
    "\n",
    "# Load sky_mesh.json into function_urls dictionary\n",
    "function_urls = json.load(open(\"sky_mesh.json\"))\n",
    "\n",
    "import os\n",
    "os.environ['OBJC_DISABLE_INITIALIZE_FORK_SAFETY'] = 'YES'\n",
    "\n"
   ]
  },
  {
   "cell_type": "code",
   "execution_count": 2,
   "metadata": {},
   "outputs": [
    {
     "name": "stderr",
     "output_type": "stream",
     "text": [
      "objc[86970]: +[__NSCFConstantString initialize] may have been in progress in another thread when fork() was called.\n",
      "objc[86969]: +[__NSCFConstantString initialize] may have been in progress in another thread when fork() was called.\n",
      "objc[86970]: +[__NSCFConstantString initialize] may have been in progress in another thread when fork() was called. We cannot safely call it or ignore it in the fork() child process. Crashing instead. Set a breakpoint on objc_initializeAfterForkError to debug.\n",
      "objc[86969]: +[__NSCFConstantString initialize] may have been in progress in another thread when fork() was called. We cannot safely call it or ignore it in the fork() child process. Crashing instead. Set a breakpoint on objc_initializeAfterForkError to debug.\n",
      "objc[87009]: +[__NSCFConstantString initialize] may have been in progress in another thread when fork() was called.\n",
      "objc[87010]: +[__NSCFConstantString initialize] may have been in progress in another thread when fork() was called.\n",
      "objc[87009]: +[__NSCFConstantString initialize] may have been in progress in another thread when fork() was called. We cannot safely call it or ignore it in the fork() child process. Crashing instead. Set a breakpoint on objc_initializeAfterForkError to debug.\n",
      "objc[87010]: +[__NSCFConstantString initialize] may have been in progress in another thread when fork() was called. We cannot safely call it or ignore it in the fork() child process. Crashing instead. Set a breakpoint on objc_initializeAfterForkError to debug.\n"
     ]
    },
    {
     "ename": "KeyboardInterrupt",
     "evalue": "",
     "output_type": "error",
     "traceback": [
      "\u001b[0;31m---------------------------------------------------------------------------\u001b[0m",
      "\u001b[0;31mKeyboardInterrupt\u001b[0m                         Traceback (most recent call last)",
      "Cell \u001b[0;32mIn[2], line 11\u001b[0m\n\u001b[1;32m      9\u001b[0m name \u001b[38;5;241m=\u001b[39m \u001b[38;5;124m\"\u001b[39m\u001b[38;5;124mskyf_2048_\u001b[39m\u001b[38;5;124m\"\u001b[39m \u001b[38;5;241m+\u001b[39m region\n\u001b[1;32m     10\u001b[0m function_url \u001b[38;5;241m=\u001b[39m function_urls[name]\n\u001b[0;32m---> 11\u001b[0m data \u001b[38;5;241m=\u001b[39m \u001b[43mFaaSRunner\u001b[49m\u001b[38;5;241;43m.\u001b[39;49m\u001b[43mfast_experiment\u001b[49m\u001b[43m(\u001b[49m\u001b[43mfunction_url\u001b[49m\u001b[43m,\u001b[49m\u001b[43m \u001b[49m\u001b[43mprocesses\u001b[49m\u001b[38;5;241;43m=\u001b[39;49m\u001b[38;5;241;43m2\u001b[39;49m\u001b[43m,\u001b[49m\u001b[43m \u001b[49m\u001b[43mruns_per_process\u001b[49m\u001b[38;5;241;43m=\u001b[39;49m\u001b[38;5;241;43m1\u001b[39;49m\u001b[43m,\u001b[49m\u001b[43m \u001b[49m\u001b[43mpayloads\u001b[49m\u001b[38;5;241;43m=\u001b[39;49m\u001b[43m[\u001b[49m\u001b[43mpayload\u001b[49m\u001b[43m]\u001b[49m\u001b[43m,\u001b[49m\u001b[43m \u001b[49m\u001b[43mexperiment_name\u001b[49m\u001b[38;5;241;43m=\u001b[39;49m\u001b[43mname\u001b[49m\u001b[43m)\u001b[49m\n\u001b[1;32m     12\u001b[0m \u001b[38;5;66;03m# Write data to a csv file it is a dataframe from pandas\u001b[39;00m\n\u001b[1;32m     13\u001b[0m data\u001b[38;5;241m.\u001b[39mto_csv(\u001b[38;5;124m\"\u001b[39m\u001b[38;5;124m./\u001b[39m\u001b[38;5;124m\"\u001b[39m \u001b[38;5;241m+\u001b[39m name \u001b[38;5;241m+\u001b[39m \u001b[38;5;124m\"\u001b[39m\u001b[38;5;124m.csv\u001b[39m\u001b[38;5;124m\"\u001b[39m)\n",
      "File \u001b[0;32m~/Dropbox/Research/SAAF-Master/SAAF/python_template/FaaSRunner.py:190\u001b[0m, in \u001b[0;36mfast_experiment\u001b[0;34m(http_endpoint, processes, runs_per_process, payloads, shuffle_payloads, experiment_name, start_delay, end_delay, tags)\u001b[0m\n\u001b[1;32m    187\u001b[0m \u001b[38;5;28;01mfor\u001b[39;00m child_pid \u001b[38;5;129;01min\u001b[39;00m child_processes:\n\u001b[1;32m    188\u001b[0m     os\u001b[38;5;241m.\u001b[39mwaitpid(child_pid, \u001b[38;5;241m0\u001b[39m)\n\u001b[0;32m--> 190\u001b[0m \u001b[43mtime\u001b[49m\u001b[38;5;241;43m.\u001b[39;49m\u001b[43msleep\u001b[49m\u001b[43m(\u001b[49m\u001b[43mend_delay\u001b[49m\u001b[43m)\u001b[49m\n\u001b[1;32m    192\u001b[0m \u001b[38;5;28;01mreturn\u001b[39;00m load(\u001b[38;5;124m\"\u001b[39m\u001b[38;5;124mfast_experiment\u001b[39m\u001b[38;5;124m\"\u001b[39m, experiment_name, tags)\n",
      "\u001b[0;31mKeyboardInterrupt\u001b[0m: "
     ]
    },
    {
     "ename": "",
     "evalue": "",
     "output_type": "error",
     "traceback": [
      "\u001b[1;31mThe Kernel crashed while executing code in the current cell or a previous cell. \n",
      "\u001b[1;31mPlease review the code in the cell(s) to identify a possible cause of the failure. \n",
      "\u001b[1;31mClick <a href='https://aka.ms/vscodeJupyterKernelCrash'>here</a> for more info. \n",
      "\u001b[1;31mView Jupyter <a href='command:jupyter.viewOutput'>log</a> for further details."
     ]
    }
   ],
   "source": [
    "def hello_world(request, inspector):\n",
    "    inspector.addAttribute(\"message\", \"Hello, World!\")\n",
    "    return None\n",
    "\n",
    "payload = FaaSET.dynamic_get_payload(hello_world, {})\n",
    "\n",
    "for region in regions.keys():\n",
    "    try:\n",
    "        name = \"skyf_2048_\" + region\n",
    "        function_url = function_urls[name]\n",
    "        data = FaaSRunner.fast_experiment(function_url, processes=2, runs_per_process=1, payloads=[payload], experiment_name=name)\n",
    "        # Write data to a csv file it is a dataframe from pandas\n",
    "        data.to_csv(\"./\" + name + \".csv\")\n",
    "    except Exception as e:\n",
    "        pass"
   ]
  }
 ],
 "metadata": {
  "kernelspec": {
   "display_name": "Python 3",
   "language": "python",
   "name": "python3"
  },
  "language_info": {
   "codemirror_mode": {
    "name": "ipython",
    "version": 3
   },
   "file_extension": ".py",
   "mimetype": "text/x-python",
   "name": "python",
   "nbconvert_exporter": "python",
   "pygments_lexer": "ipython3",
   "version": "3.8.19"
  }
 },
 "nbformat": 4,
 "nbformat_minor": 2
}
