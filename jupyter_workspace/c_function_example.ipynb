{
 "cells": [
  {
   "cell_type": "markdown",
   "metadata": {},
   "source": [
    "# STEP 1: Import FaaSET"
   ]
  },
  {
   "cell_type": "code",
   "execution_count": 1,
   "metadata": {},
   "outputs": [
    {
     "name": "stdout",
     "output_type": "stream",
     "text": [
      "------------------------------------------------------\n",
      "Welcome to FaaSET v2.0! Some things have changed when\n",
      "compared to v1.0. RunModes and the Containerize arguments\n",
      "have been removed in favor of more available Platforms.\n",
      "Platforms is no longer a list and now functions can\n",
      "only be deployed to a single platform at a time.\n",
      "If you are using a older notebook that has not been\n",
      "updated things will be broken. Please fix them. \n",
      "------------------------------------------------------\n",
      "Loaded platforms:  AWS Docker ARM. AWS Docker Debian. Azure. AWS Docker. GCF. GCF Gen2. OpenFaaS EKS. IBM. Local. IBM Docker. AWS. OpenFaaS. \n",
      "------------------------------------------------------\n",
      "Loaded functions:  sleeper_ibm. diskwriteropenfaas. disk_writer_ibm. hello_world_38. hello_world_faaset. faaset_2_gcf. graph_page_rank. graphmstopenfaas. diskwritergcf. pagerankopenfaas. faaset_2_aws. graph_mst. hello_world_docker_ibm2. graphbfsopenfaas. faaset_2_gcf2. hello_world_docker_ibm3. hello_world_c. hello_world_ibm_new. pagerankgcf. helloworldgooglegen1new. dyno_func_ibm. faaset_2_ibm. graph_bfs_ibm. zipper. helloworldgooglegen2. zipperopenfaas. sleeperopenfaas. zipper_ibm. jelloworldopenfaas. disk_writer. sleepergcf. graph_bfs. dyno_func_ibm3. helloworldgooglegen2new. dyno_func_ibm2. hello_world_docker_ibm. hello_world_faaset_2. graphmstgcf. stresscounter. zippergcf. hello_world_faaset_3. sleepertime. hello_world_faaset_4. graphbfsgcf. helloworldopenfaas. graph_page_rank_ibm. graph_mst_ibm. sleeper. \n"
     ]
    }
   ],
   "source": [
    "import FaaSET"
   ]
  },
  {
   "cell_type": "markdown",
   "metadata": {},
   "source": [
    "# STEP 2: Create a dummy function. This will setup the folder that we will add files to in the next cells..."
   ]
  },
  {
   "cell_type": "code",
   "execution_count": null,
   "metadata": {},
   "outputs": [],
   "source": [
    "@FaaSET.cloud_function(platform=\"AWS Docker Debian\")\n",
    "def hello_world_c(request, context): \n",
    "    return {\"message\": \"Dummy Function\"}   \n",
    "\n",
    "hello_world_c({}, None)"
   ]
  },
  {
   "cell_type": "markdown",
   "metadata": {},
   "source": [
    "# STEP 3: Create the C file:"
   ]
  },
  {
   "cell_type": "code",
   "execution_count": 29,
   "metadata": {},
   "outputs": [
    {
     "name": "stdout",
     "output_type": "stream",
     "text": [
      "Overwriting functions/hello_world_c/hello_world.c\n"
     ]
    }
   ],
   "source": [
    "%%writefile functions/hello_world_c/hello_world.c\n",
    "\n",
    "#include <stdio.h>\n",
    "\n",
    "int main()\n",
    "{\n",
    "    printf(\"Hello World\");\n",
    "    return 0;\n",
    "}"
   ]
  },
  {
   "cell_type": "markdown",
   "metadata": {},
   "source": [
    "# STEP 4: Update the Dockerfile to compile the C:"
   ]
  },
  {
   "cell_type": "code",
   "execution_count": 27,
   "metadata": {},
   "outputs": [
    {
     "name": "stdout",
     "output_type": "stream",
     "text": [
      "Overwriting functions/hello_world_c/Dockerfile\n"
     ]
    }
   ],
   "source": [
    "%%writefile functions/hello_world_c/Dockerfile\n",
    "\n",
    "#FROM python:buster as build-image\n",
    "FROM python:3.8-slim-buster\n",
    "\n",
    "# Update and install curl. \n",
    "RUN apt update\n",
    "RUN apt install -y curl build-essential\n",
    "\n",
    "# Define and create function directory\n",
    "ENV FUNCTION_DIR=\"/var/task\"\n",
    "RUN mkdir -p ${FUNCTION_DIR}\n",
    "\n",
    "# Copy function code\n",
    "COPY . ${FUNCTION_DIR}\n",
    "\n",
    "RUN pip install boto3 botocore\n",
    "\n",
    "# Install the runtime interface client\n",
    "RUN pip install \\\n",
    "        --target ${FUNCTION_DIR} \\\n",
    "        awslambdaric\n",
    "\n",
    "# Install the runtime interface emulator\n",
    "RUN curl -Lo /usr/local/bin/aws-lambda-rie https://github.com/aws/aws-lambda-runtime-interface-emulator/releases/latest/download/aws-lambda-rie\n",
    "RUN chmod +x /usr/local/bin/aws-lambda-rie\n",
    "\n",
    "# Set working directory\n",
    "WORKDIR ${FUNCTION_DIR}\n",
    "\n",
    "# Compile C code\n",
    "RUN gcc -o hello_world hello_world.c\n",
    "\n",
    "# Set entry script that determines whether to run RIE if running locally\n",
    "COPY ./entry_script.sh /entry_script.sh\n",
    "RUN chmod +x /entry_script.sh\n",
    "ENTRYPOINT [ \"/entry_script.sh\" ]\n",
    "\n",
    "# Set handler\n",
    "CMD [ \"lambda_function.lambda_handler\" ]"
   ]
  },
  {
   "cell_type": "markdown",
   "metadata": {},
   "source": [
    "# Step 5: Create your real function that will shell out and run the C:"
   ]
  },
  {
   "cell_type": "code",
   "execution_count": 26,
   "metadata": {},
   "outputs": [
    {
     "data": {
      "text/plain": [
       "{'message': 'Dello'}"
      ]
     },
     "execution_count": 26,
     "metadata": {},
     "output_type": "execute_result"
    }
   ],
   "source": [
    "@FaaSET.cloud_function(platform=\"AWS Docker Debian\", config={\"memory\": 259, \"profile\": \"personal\"})\n",
    "def hello_world_c(request, context): \n",
    "    import subprocess\n",
    "    command = \"./hello_world\"\n",
    "    output = subprocess.check_output(command.split()).decode('ascii')\n",
    "    return {\"message\": output}   \n",
    "\n",
    "hello_world_c({}, None)"
   ]
  }
 ],
 "metadata": {
  "interpreter": {
   "hash": "31f2aee4e71d21fbe5cf8b01ff0e069b9275f58929596ceb00d14d90e3e16cd6"
  },
  "kernelspec": {
   "display_name": "Python 3.8.10 64-bit",
   "language": "python",
   "name": "python3"
  },
  "language_info": {
   "codemirror_mode": {
    "name": "ipython",
    "version": 3
   },
   "file_extension": ".py",
   "mimetype": "text/x-python",
   "name": "python",
   "nbconvert_exporter": "python",
   "pygments_lexer": "ipython3",
   "version": "3.8.10"
  },
  "orig_nbformat": 4
 },
 "nbformat": 4,
 "nbformat_minor": 2
}
